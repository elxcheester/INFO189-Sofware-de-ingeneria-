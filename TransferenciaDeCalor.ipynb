{
 "cells": [
  {
   "cell_type": "code",
   "execution_count": null,
   "metadata": {},
   "outputs": [],
   "source": [
    "%%html\n",
    "<IMG src=\"Fotos/escudo-transparente.png\" width=\"70\" height=\"70\"/>\n",
    "<br></br>\n",
    "<br></br>\n",
    "<br></br>\n",
    "<H1 align=\"center\"> Tranferencia de calor en un paralelepípedo</H1>\n",
    "<IMG style=\"margin-left:50px;border:1px solid black;\" src=\"Fotos/Cubo.p\" width=\"650\" height=\"650\"/>\n",
    "<br></br>\n",
    "<br></br>\n",
    "<div align=\"center\" style=\"width:200px;height:400px;margin-left:250px;border:1px solid red;\"> \n",
    "<H3 align=\"center\" style=\"color:#FF0000\"> Profesor:</H3>\n",
    "<H6 align=\"center\" style=\"color:#525252\"><i>Cristian Olivares</i></H6>\n",
    "<H3 align=\"center\" style=\"color:#FF0000\"> Intengrantes:</H3>\n",
    "<H6 align=\"center\" style=\"color:#525252\"><i>Sebastian Molina</i></H6>\n",
    "<H6 align=\"center\" style=\"color:#525252\"><i>Felipe Saldias</i></H6>\n",
    "<H6 align=\"center\" style=\"color:#525252\"><i>Daniela Fabregas</i></H6>\n",
    "<H6 align=\"center\" style=\"color:#525252\"><i>Francisco Gonzáles</i></H6>\n",
    "<H3 align=\"center\" style=\"color:#FF0000\"> Fecha:</H3>\n",
    "<H6 align=\"center\" style=\"color:#525252\"><i>17/04/2019</i></H6> </div>"
   ]
  },
  {
   "cell_type": "code",
   "execution_count": null,
   "metadata": {},
   "outputs": [],
   "source": [
    "%%HTML\n",
    "<H3 align=\"center\"> Trabajo a resolver.</H1>\n",
    "<IMG src=\"Fotos/Enunciado.png\" width=\"700\" height=\"700\"/>\n",
    "<IMG src=\"Fotos/Enunciado2.png\" width=\"700\" height=\"500\"/>\n"
   ]
  },
  {
   "cell_type": "code",
   "execution_count": null,
   "metadata": {},
   "outputs": [],
   "source": [
    "%%HTML\n",
    "<H2 align=\"center\"> Resolución del problema </H2>\n",
    "<br></br>"
   ]
  },
  {
   "cell_type": "code",
   "execution_count": null,
   "metadata": {},
   "outputs": [],
   "source": [
    "# Invocamos la magia con una de las opciones\n",
    "%matplotlib notebook\n",
    "# Importamos la librería\n",
    "import matplotlib as mpl\n",
    "print(mpl.__version__)\n",
    "import matplotlib.pyplot as plt\n",
    "import numpy as np\n",
    "from mpl_toolkits.mplot3d.axes3d import Axes3D\n",
    "#print(sorted(mpl.style.available))\n",
    "plt.style.use('classic')"
   ]
  },
  {
   "cell_type": "code",
   "execution_count": null,
   "metadata": {},
   "outputs": [],
   "source": [
    "# en este bloque se calculan los puntos que contendra la malla \n",
    "# y se almacenan en una estructura de puntos*3\n",
    "Largoy=4\n",
    "Largox=2\n",
    "Largoz=2\n",
    "H= float(input('Ingrese dato: '))\n",
    "puntosx=(Largox/H)+1\n",
    "puntosy=(Largoy/H)+1\n",
    "puntosz=(Largoz/H)+1\n",
    "puntos=puntosx*puntosy*puntosz\n",
    "while ((puntos % 1) != 0):\n",
    "    print (\"ATENCIÓN: ingrese un paso valido.\")\n",
    "    H= float(input('Ingrese dato: '))\n",
    "    puntos=((Largoy/H)+1)*((Largox/H)+1)*((Largoz/H)+1)\n",
    "    puntosx=(Largox/H)+1\n",
    "    puntosy=(Largoy/H)+1\n",
    "    puntosz=(Largoz/H)+1\n",
    "puntos=int(puntos)\n",
    "x = [[H*x, H*y, H*z] for y in range(int(puntosy)) for z in range(int(puntosz)) for x in range(int(puntosx)) ]\n",
    "l=np.array(x, dtype=np.float32)\n",
    "puntos_ul=(puntosx*puntosz) # cantidad de puntos por placa"
   ]
  },
  {
   "cell_type": "code",
   "execution_count": null,
   "metadata": {},
   "outputs": [],
   "source": [
    "#Se crea un gráfico 3d representando todo los puntos con que deseamos trabajar\n",
    "fig, ax = plt.subplots(figsize=(7, 4), subplot_kw={'projection': '3d'})\n",
    "ax.scatter(l[0:int(puntos-puntos_ul),0],l[0:int(puntos-puntos_ul),1],l[0:int(puntos-puntos_ul),2])\n",
    "ax.scatter(l[int(puntos-puntos_ul):int(puntos),0],l[int(puntos-puntos_ul):int(puntos),1],l[int(puntos-puntos_ul):int(puntos),2],c='red')"
   ]
  },
  {
   "cell_type": "code",
   "execution_count": null,
   "metadata": {
    "scrolled": true
   },
   "outputs": [],
   "source": [
    "matriz = np.zeros((puntos,puntos))\n",
    "vectorb=np.zeros((puntos,1))\n",
    "l=0\n",
    "\n",
    "for j in range(int(puntosy)):\n",
    "    for k in range (int(puntosz)):\n",
    "        for i in range(int(puntosx)):\n",
    "            #print(i,j,k)\n",
    "            if(j==0):\n",
    "                un=i+k*puntosx+puntos_ul\n",
    "                do=(i+k*puntosx)\n",
    "                matriz[l,int(un)]=1/H\n",
    "                matriz[l,int(do)]=-1/H\n",
    "                vectorb[l]=0.5\n",
    "            \n",
    "            if j<int(puntosy-1) and j!=0:\n",
    "                # Se calcula el indice en el arreglo de los puntos vecinos del actual desde (i,j,k)--> valorlineal\n",
    "                actual=i+k*puntosx+j*puntos_ul\n",
    "                ymas=actual+puntos_ul\n",
    "                ymenos=actual-puntos_ul\n",
    "                xmas=actual+1\n",
    "                xmenos=actual-1\n",
    "                zmas=actual+puntosx\n",
    "                zmenos=actual-puntosx\n",
    "                # Se completa en la matriz los coeficientes de las variables pertenecientes a el valor actual\n",
    "                matriz[l,int(actual)]=-6\n",
    "                # Se completa en la matriz los coeficientes de las variables pertenecientes a los vecinos en y\n",
    "                matriz[l,int(ymenos)]=1\n",
    "                matriz[l,int(ymas)]=1\n",
    "                # Se completa en la matriz los coeficientes de las variables pertenecientes a los vecinos en x\n",
    "                if(i!=puntosx-1):\n",
    "                    matriz[l,int(xmas)]=1\n",
    "                if(i!=0):\n",
    "                    matriz[l,int(xmenos)]=1\n",
    "                 # Se completa en la matriz los coeficientes de las variables pertenecientes a los vecinos en z\n",
    "                if(k!=puntosz-1):\n",
    "                    matriz[l,int(zmas)]=1\n",
    "                if(k!=0): \n",
    "                    matriz[l,int(zmenos)]=1\n",
    "                if(j>=int(puntosy/2)):\n",
    "                    vectorb[l]=-((H**2)/0.5)\n",
    "            \n",
    "            if j==puntosy-1:\n",
    "                actual=i+k*puntosx+j*puntos_ul\n",
    "                matriz[l,int(actual)]=1\n",
    "                vectorb[l]=10\n",
    "            l=l+1\n",
    "\n",
    "\n",
    "        "
   ]
  },
  {
   "cell_type": "code",
   "execution_count": null,
   "metadata": {},
   "outputs": [],
   "source": [
    "solucion= np.linalg.inv(matriz).dot(vectorb) \n",
    "solucion"
   ]
  },
  {
   "cell_type": "code",
   "execution_count": null,
   "metadata": {},
   "outputs": [],
   "source": [
    "fig, ax = plt.subplots(figsize=(14, 8), subplot_kw={'projection': '3d'})\n",
    "\n",
    "\n",
    "ax.scatter(l[0:int(puntos-puntos_ul),0],l[0:int(puntos-puntos_ul),1],l[0:int(puntos-puntos_ul),2])\n",
    "ax.scatter(l[int(puntos-puntos_ul):int(puntos),0],l[int(puntos-puntos_ul):int(puntos),1],l[int(puntos-puntos_ul):int(puntos),2],c='red')\n",
    "\n",
    "for i in range(puntos):\n",
    "    label = '%s' % ( '%.2f'%(solucion[i]))\n",
    "    ax.text(x[i][0], x[i][1], x[i][2], label)            "
   ]
  },
  {
   "cell_type": "code",
   "execution_count": null,
   "metadata": {},
   "outputs": [],
   "source": []
  }
 ],
 "metadata": {
  "kernelspec": {
   "display_name": "Python 3",
   "language": "python",
   "name": "python3"
  },
  "language_info": {
   "codemirror_mode": {
    "name": "ipython",
    "version": 3
   },
   "file_extension": ".py",
   "mimetype": "text/x-python",
   "name": "python",
   "nbconvert_exporter": "python",
   "pygments_lexer": "ipython3",
   "version": "3.6.7"
  }
 },
 "nbformat": 4,
 "nbformat_minor": 2
}
